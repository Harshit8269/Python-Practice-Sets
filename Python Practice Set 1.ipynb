{
 "cells": [
  {
   "cell_type": "markdown",
   "id": "72d38073-07e0-4f96-9d49-c1bd1415146d",
   "metadata": {},
   "source": [
    "## Q1. Write a Python program that defines a function called \"add_numbers\" that takes two arguments (i.e., numbers) and returns their sum. Within the function, add the two numbers together and return the result using the return statement. Call the function with the values 5 and 6, and print out the returned result. This will result in the addition of 5 and 6, with the output of the program being the sum of these two numbers.\n"
   ]
  },
  {
   "cell_type": "code",
   "execution_count": 2,
   "id": "45756fa8-2ee4-430f-af4a-8179e8c49973",
   "metadata": {},
   "outputs": [
    {
     "name": "stdout",
     "output_type": "stream",
     "text": [
      "Sum of 5 and 6 is 11\n"
     ]
    }
   ],
   "source": [
    "def add_numbers(a, b):\n",
    "    sum = a + b\n",
    "    return sum\n",
    "\n",
    "print(f'Sum of 5 and 6 is {add_numbers(5, 6)}')"
   ]
  },
  {
   "cell_type": "markdown",
   "id": "58b8216e-44e0-4726-9882-4440cc200870",
   "metadata": {},
   "source": [
    "## Q2. Write a Python program that calculates the square root of a given number using a built-in function. Specifically, the program should take an integer or float input from the user, calculate its square root using the 'sqrt()' function from the 'math' module, and print out the result to the user. As an example, calculate the square root of the number 625 using this program, which should output the value of 25."
   ]
  },
  {
   "cell_type": "code",
   "execution_count": 21,
   "id": "4ed43689-118c-4af4-a0c3-2ba6cd37d9f2",
   "metadata": {},
   "outputs": [
    {
     "name": "stdin",
     "output_type": "stream",
     "text": [
      "Enter a number 625\n"
     ]
    },
    {
     "name": "stdout",
     "output_type": "stream",
     "text": [
      "Sqaure root of given number is 25.0\n"
     ]
    }
   ],
   "source": [
    "import math\n",
    "def sqr():\n",
    "    n = int(input('Enter a number'))\n",
    "    return math.sqrt(n)\n",
    "print(f'Sqaure root of given number is {sqr()}')    "
   ]
  },
  {
   "cell_type": "markdown",
   "id": "0b2890c8-9a37-48cc-82aa-8883fc9e5507",
   "metadata": {},
   "source": [
    "## Q3.Write a program that prints all prime numbers between 0 to 50."
   ]
  },
  {
   "cell_type": "code",
   "execution_count": 7,
   "id": "cb3349bb-1865-4be3-a8f4-3c9ff0ce33d6",
   "metadata": {},
   "outputs": [
    {
     "name": "stdout",
     "output_type": "stream",
     "text": [
      "2\n",
      "3\n",
      "5\n",
      "7\n",
      "11\n",
      "13\n",
      "17\n",
      "19\n",
      "23\n",
      "29\n",
      "31\n",
      "37\n",
      "41\n",
      "43\n",
      "47\n"
     ]
    }
   ],
   "source": [
    "def is_prime(n):\n",
    "    if n < 2:\n",
    "        return False\n",
    "    for i in range(2, int(n ** 0.5) + 1):\n",
    "        if n % i == 0:\n",
    "            return False\n",
    "    return True\n",
    "for i in range(2 , 50):\n",
    "    if is_prime(i):\n",
    "        print(i)\n",
    "    "
   ]
  },
  {
   "cell_type": "markdown",
   "id": "e419189c-9885-4d4a-ae9a-6e6d5c304f0f",
   "metadata": {},
   "source": [
    "## Q4.How can we swap the values of three variables (let's say a, b, and c) without using a fourth variable? For example, if we have a=5, b=8, and c=9, how can we obtain a=9, b=5, and c=8? The challenge is to perform this operation without using an additional variable to store any of the values during the swapping process.\n"
   ]
  },
  {
   "cell_type": "code",
   "execution_count": 16,
   "id": "c9ba51a8-6283-4311-a6cf-2f81705a3a8f",
   "metadata": {},
   "outputs": [
    {
     "name": "stdout",
     "output_type": "stream",
     "text": [
      "a = 9,b = 5, c = 8\n"
     ]
    }
   ],
   "source": [
    "a = 5\n",
    "b = 8\n",
    "c = 9\n",
    "a = a + b + c\n",
    "b = a - (b + c)\n",
    "c = a - (b + c)\n",
    "a = a - (b + c)\n",
    "print(f'a = {a},b = {b}, c = {c}')"
   ]
  },
  {
   "cell_type": "markdown",
   "id": "d31644e5-6e72-449b-a578-81a371e8e5eb",
   "metadata": {},
   "source": [
    "## Q5. Can you write a program that determines the nature of a given number (in this case, 87) as being positive, negative, or zero? The program should be designed to take the number as input and perform the necessary calculations to determine if the number is positive (i.e., greater than zero), negative (i.e., less than zero), or zero (i.e., equal to zero). The output of the program should indicate which of these three categories the given number falls into.\n"
   ]
  },
  {
   "cell_type": "code",
   "execution_count": 25,
   "id": "fe3b2bdf-7ec2-43ed-b4ef-1f2645fbffb5",
   "metadata": {},
   "outputs": [
    {
     "name": "stdin",
     "output_type": "stream",
     "text": [
      "Enter a number 87\n"
     ]
    },
    {
     "name": "stdout",
     "output_type": "stream",
     "text": [
      "positive\n"
     ]
    }
   ],
   "source": [
    "def num_check():\n",
    "    num = int(input('Enter a number'))\n",
    "    if num == 0:\n",
    "        return('zero')\n",
    "    elif num > 0:\n",
    "        return('positive')\n",
    "    elif num < 0:\n",
    "        return('Negative')\n",
    "print(num_check())        "
   ]
  },
  {
   "cell_type": "markdown",
   "id": "62ea9045-ff9c-421f-a65e-c240f81dc6d0",
   "metadata": {},
   "source": [
    "## Q6. How can you create a program that determines whether a given number (in this case, 98) is even or odd? The program should be designed to take the number as input and perform the necessary calculations to determine whether it is divisible by two. If the number is divisible by two without leaving a remainder, it is an even number, and if there is a remainder, it is an odd number. The output of the program should indicate whether the given number is even or odd.\n"
   ]
  },
  {
   "cell_type": "code",
   "execution_count": 26,
   "id": "f0487a73-f325-4e2a-b088-705e24cd858e",
   "metadata": {},
   "outputs": [
    {
     "name": "stdin",
     "output_type": "stream",
     "text": [
      "Enter a number 98\n"
     ]
    },
    {
     "name": "stdout",
     "output_type": "stream",
     "text": [
      "Even\n"
     ]
    }
   ],
   "source": [
    "num = int(input('Enter a number'))\n",
    "if num % 2 == 0:\n",
    "    print('Even')\n",
    "else:\n",
    "    print('Odd')"
   ]
  },
  {
   "cell_type": "markdown",
   "id": "e9f6f32b-8443-4664-8704-0fe3eedd069c",
   "metadata": {},
   "source": [
    "## Q7.Write a program for sum of digits.the digits are 76543 and the output should be 25.\n"
   ]
  },
  {
   "cell_type": "code",
   "execution_count": 36,
   "id": "62cca7fe-c808-4cd7-a7d0-9e44b3678266",
   "metadata": {},
   "outputs": [
    {
     "name": "stdin",
     "output_type": "stream",
     "text": [
      "Enter a Number 76543\n"
     ]
    },
    {
     "name": "stdout",
     "output_type": "stream",
     "text": [
      "sum of digits of a given number is 25\n"
     ]
    }
   ],
   "source": [
    "n = int(input('Enter a Number'))\n",
    "st = str(n)\n",
    "sum = 0  \n",
    "for i in st:\n",
    "    sum = sum + int(i)\n",
    "print(f'sum of digits of a given number is {sum}')    "
   ]
  },
  {
   "cell_type": "markdown",
   "id": "ee9031c2-e265-4cee-ab9e-88456c2122e4",
   "metadata": {},
   "source": [
    "## Q8.Write a program for reversing the given number 5436 and the output should be 6345.\n"
   ]
  },
  {
   "cell_type": "code",
   "execution_count": 41,
   "id": "d50c5ac4-751b-41ba-bebd-209aaf38bb34",
   "metadata": {},
   "outputs": [
    {
     "name": "stdin",
     "output_type": "stream",
     "text": [
      "Enter a Number 5436\n"
     ]
    },
    {
     "name": "stdout",
     "output_type": "stream",
     "text": [
      "Reverse of the given number is 6345\n"
     ]
    }
   ],
   "source": [
    "n = int(input('Enter a Number'))\n",
    "st = str(n)\n",
    "print(f'Reverse of the given number is {int(st[::-1])}')"
   ]
  },
  {
   "cell_type": "markdown",
   "id": "ed7b12cc-b26b-4b59-bbae-1bae2f6c858c",
   "metadata": {},
   "source": [
    "## Q9.Write a program to check if a given number 371 is an Armstrong number?\n"
   ]
  },
  {
   "cell_type": "code",
   "execution_count": 47,
   "id": "2fd33c38-87bf-40c4-9a57-fe2e8cd1a17e",
   "metadata": {},
   "outputs": [
    {
     "name": "stdin",
     "output_type": "stream",
     "text": [
      "Enter a Number:  371\n"
     ]
    },
    {
     "data": {
      "text/plain": [
       "'Number is Armstrong Number'"
      ]
     },
     "execution_count": 47,
     "metadata": {},
     "output_type": "execute_result"
    }
   ],
   "source": [
    "def arm_strong():\n",
    "    n = int(input('Enter a Number: '))\n",
    "    sum = 0 \n",
    "    num_str = str(n)\n",
    "    num_len = len(num_str)\n",
    "    for i in num_str:\n",
    "        sum = sum + (int(i) ** num_len)\n",
    "    if sum == n:\n",
    "        return('Number is Armstrong Number')\n",
    "arm_strong()   "
   ]
  },
  {
   "cell_type": "markdown",
   "id": "047d4bb6-449b-434a-9273-80dfff372fe8",
   "metadata": {},
   "source": [
    "## Q10.Write a program the given year is 1996, a leap year."
   ]
  },
  {
   "cell_type": "code",
   "execution_count": 55,
   "id": "3656a3f9-ecf0-4660-983b-4a3c7f546e5c",
   "metadata": {},
   "outputs": [
    {
     "data": {
      "text/plain": [
       "\"Yes, It's a leap Year.\""
      ]
     },
     "execution_count": 55,
     "metadata": {},
     "output_type": "execute_result"
    }
   ],
   "source": [
    "def check_leap(year):\n",
    "    if (year % 4 == 0):\n",
    "         return \"Yes, It's a leap Year.\"\n",
    "    elif (year % 100 == 0) or (year % 400 == 0):\n",
    "        return \"Yes, It's a leap Year.\"\n",
    "    else:\n",
    "        return \"No, It's not a leap year\"\n",
    "check_leap(1996)    "
   ]
  },
  {
   "cell_type": "code",
   "execution_count": null,
   "id": "55835472-f44a-446d-8005-58d2f5f72092",
   "metadata": {},
   "outputs": [],
   "source": []
  }
 ],
 "metadata": {
  "kernelspec": {
   "display_name": "Python 3 (ipykernel)",
   "language": "python",
   "name": "python3"
  },
  "language_info": {
   "codemirror_mode": {
    "name": "ipython",
    "version": 3
   },
   "file_extension": ".py",
   "mimetype": "text/x-python",
   "name": "python",
   "nbconvert_exporter": "python",
   "pygments_lexer": "ipython3",
   "version": "3.10.8"
  }
 },
 "nbformat": 4,
 "nbformat_minor": 5
}
