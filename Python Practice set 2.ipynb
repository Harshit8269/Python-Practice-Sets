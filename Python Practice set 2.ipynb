{
 "cells": [
  {
   "cell_type": "markdown",
   "id": "2ddda301-fff5-4552-9473-19138f3e3524",
   "metadata": {},
   "source": [
    "## Q1. Create a list in python using the followings: 2,3,4,5,6,7 with variable ‘a’ Add ‘mango to the above list Also add banana, grapes & orange in the list insert apple in the 5th position of a variable ‘a’ Remove last item from the list"
   ]
  },
  {
   "cell_type": "code",
   "execution_count": 49,
   "id": "3f4521ef-f700-45e0-8b89-c45cdf359610",
   "metadata": {},
   "outputs": [
    {
     "name": "stdout",
     "output_type": "stream",
     "text": [
      "[2, 3, 4, 5, 'apple', 6, 7, 'mango', 'banana', 'grapes']\n"
     ]
    }
   ],
   "source": [
    "a = [2,3,4,5,6,7]\n",
    "a.append('mango')\n",
    "a.extend(['banana','grapes','orange'])\n",
    "a.insert(4, 'apple')\n",
    "a.pop()\n",
    "print(a)"
   ]
  },
  {
   "cell_type": "markdown",
   "id": "1abdc256-6a76-4e5c-9424-b51d15481e84",
   "metadata": {},
   "source": [
    "## Q2.\n",
    "## L = [1,2,3,4,5,6,7]\n",
    "## Using the above list slice from 1:4"
   ]
  },
  {
   "cell_type": "code",
   "execution_count": 8,
   "id": "0e0d4e8f-4661-4988-adb1-26adaaf2f7cf",
   "metadata": {},
   "outputs": [
    {
     "name": "stdout",
     "output_type": "stream",
     "text": [
      "[2, 3, 3]\n"
     ]
    }
   ],
   "source": [
    "L = [1,2,3,3,4,5,6,7] \n",
    "print(L[1:4])"
   ]
  },
  {
   "cell_type": "markdown",
   "id": "56d6527d-e799-42ef-8342-b36f33cff79a",
   "metadata": {},
   "source": [
    "## Q3. Reverse the order of given string L = [4,5,6,8,3] Without using reverse() function."
   ]
  },
  {
   "cell_type": "code",
   "execution_count": 9,
   "id": "91a25ec4-f1ef-40fa-9cfe-a8954ed82d88",
   "metadata": {},
   "outputs": [
    {
     "name": "stdout",
     "output_type": "stream",
     "text": [
      "[3, 8, 7, 6, 5, 4]\n"
     ]
    }
   ],
   "source": [
    "L = [4,5,6,7,8,3]\n",
    "print(L[::-1])"
   ]
  },
  {
   "cell_type": "markdown",
   "id": "6fb0f693-b9f4-4deb-a2a7-165b4945e948",
   "metadata": {},
   "source": [
    "## Q4. Use list comprehension to square the given list L=[2,4,7,3,6,8]"
   ]
  },
  {
   "cell_type": "code",
   "execution_count": 12,
   "id": "97e5da2e-d8f2-47a3-84f8-dc9988b4f04a",
   "metadata": {},
   "outputs": [
    {
     "name": "stdout",
     "output_type": "stream",
     "text": [
      "[4, 16, 49, 9, 36, 64]\n"
     ]
    }
   ],
   "source": [
    "L = [2,4,7,3,6,8]\n",
    "print([x**2 for x in L])"
   ]
  },
  {
   "cell_type": "markdown",
   "id": "d914bd50-c334-43a9-a83e-7bd221cbfe42",
   "metadata": {},
   "source": [
    "## Q5. Create a function that takes in a tuple of integers and returns the sum of the integers. Test the function with a tuple of your choice."
   ]
  },
  {
   "cell_type": "code",
   "execution_count": 13,
   "id": "fe7ca0ef-6bf9-4e37-8db9-46ddbcda6c0c",
   "metadata": {},
   "outputs": [
    {
     "data": {
      "text/plain": [
       "65"
      ]
     },
     "execution_count": 13,
     "metadata": {},
     "output_type": "execute_result"
    }
   ],
   "source": [
    "def tup_sum(tuple_arg):\n",
    "    sum = 0\n",
    "    for i in tuple_arg:\n",
    "        sum = sum + i\n",
    "    return sum\n",
    "tup_sum((2,3,4,56))"
   ]
  },
  {
   "cell_type": "markdown",
   "id": "9e22a3a6-bae0-4d29-b12b-1fa9dbd9c93e",
   "metadata": {},
   "source": [
    "## Q6. Create two sets of your favourite fruits, and use the union() method to combine them into a single set. Print the resulting set to the console."
   ]
  },
  {
   "cell_type": "code",
   "execution_count": 27,
   "id": "4723b7f2-10ca-4e94-b501-9c488c1bb8c9",
   "metadata": {},
   "outputs": [
    {
     "name": "stdout",
     "output_type": "stream",
     "text": [
      "{'Apple', 'Orange', 'Banana', 'Mango', 'Pineapple', 'Grapes'}\n"
     ]
    }
   ],
   "source": [
    "A = {'Apple','Mango','Banana'}\n",
    "B = {'Orange','Grapes','Pineapple'}\n",
    "C = A.union(B)\n",
    "print(C)"
   ]
  },
  {
   "cell_type": "markdown",
   "id": "1b9cdcb2-600b-4860-89a2-21d0228eba09",
   "metadata": {},
   "source": [
    "## Q7. Create a set of random words, and use the add() method to add a new word to the set. Print the resulting set to the console.\n"
   ]
  },
  {
   "cell_type": "code",
   "execution_count": 43,
   "id": "d3c64e04-337b-423d-b2ab-5761af9e2045",
   "metadata": {},
   "outputs": [
    {
     "name": "stdout",
     "output_type": "stream",
     "text": [
      "old set {'Grapes', 'Orange', 'Banana'}\n",
      "New Set {'New word', 'Grapes', 'Orange', 'Banana'}\n"
     ]
    }
   ],
   "source": [
    "import random\n",
    "x = set([random.choice(list(C)) for _ in range(5)])\n",
    "print(f'old set {x}')\n",
    "x.add('New word')\n",
    "print(f'New Set {x}')"
   ]
  },
  {
   "cell_type": "markdown",
   "id": "39ce7e06-9dd0-40a8-a4ef-93bb8fa49abe",
   "metadata": {},
   "source": [
    "## Q8. Create a set of your favourite animals, and use the remove() method to remove one animal from the set. Print the resulting set to the console.\n",
    "\n"
   ]
  },
  {
   "cell_type": "code",
   "execution_count": 44,
   "id": "0b9c2fb3-d52d-4633-82d0-d13d59ebb442",
   "metadata": {},
   "outputs": [
    {
     "name": "stdout",
     "output_type": "stream",
     "text": [
      "{'Elephant', 'Buffalo', 'Lion', 'Tiger', 'Fox', 'Cat', 'Cow'}\n"
     ]
    }
   ],
   "source": [
    "Animal = {'Cow','Buffalo','Dog','Cat','Elephant','Lion','Tiger','Fox'}\n",
    "Animal.remove('Dog')\n",
    "print(Animal)"
   ]
  },
  {
   "cell_type": "markdown",
   "id": "19ca6984-f385-471e-8c89-c4bc3e12fea3",
   "metadata": {},
   "source": [
    "## Q9.Use the zip() function to combine the book set and movie list into a list of tuples representing book/ movie pairs. Print the resulting list.\n"
   ]
  },
  {
   "cell_type": "code",
   "execution_count": 46,
   "id": "0ebabbff-5add-49e1-9368-61812ee14023",
   "metadata": {},
   "outputs": [],
   "source": [
    "favorite_books = {\"1984\", \"To Kill a Mockingbird\", \"Pride and Prejudice\"}\n",
    "favorite_movies = [\"The Shawshank Redemption\", \"The Godfather\", \"The Dark Knight\"]\n"
   ]
  },
  {
   "cell_type": "code",
   "execution_count": 48,
   "id": "1b29a7de-344c-4a57-b4c0-3a54fd40f429",
   "metadata": {},
   "outputs": [
    {
     "name": "stdout",
     "output_type": "stream",
     "text": [
      "[('1984', 'The Shawshank Redemption'), ('Pride and Prejudice', 'The Godfather'), ('To Kill a Mockingbird', 'The Dark Knight')]\n"
     ]
    }
   ],
   "source": [
    "list_of_books_and_movies = list(zip(favorite_books, favorite_movies))\n",
    "print(list_of_books_and_movies)"
   ]
  },
  {
   "cell_type": "markdown",
   "id": "77554c7f-b6fa-462e-be05-7e5cba814635",
   "metadata": {},
   "source": [
    "## Q10. Write a Python program to find the difference between consecutive numbers in a list."
   ]
  },
  {
   "cell_type": "code",
   "execution_count": 52,
   "id": "9f47f699-cc48-4e4e-9d2b-cda6c6dad2ca",
   "metadata": {},
   "outputs": [
    {
     "data": {
      "text/plain": [
       "[3, 2, 4, 1, 1, 9]"
      ]
     },
     "execution_count": 52,
     "metadata": {},
     "output_type": "execute_result"
    }
   ],
   "source": [
    "def consecutive_diff(lst):\n",
    "    cons_diff = []\n",
    "    for i in range(len(lst)-1):\n",
    "        cons_diff.append(abs(lst[i] - lst[i+1]))\n",
    "    return cons_diff\n",
    "consecutive_diff([2,5,3,7,8,9,0])"
   ]
  },
  {
   "cell_type": "code",
   "execution_count": null,
   "id": "dafe6c84-ac8d-4213-ba38-127809efdd53",
   "metadata": {},
   "outputs": [],
   "source": []
  }
 ],
 "metadata": {
  "kernelspec": {
   "display_name": "Python 3 (ipykernel)",
   "language": "python",
   "name": "python3"
  },
  "language_info": {
   "codemirror_mode": {
    "name": "ipython",
    "version": 3
   },
   "file_extension": ".py",
   "mimetype": "text/x-python",
   "name": "python",
   "nbconvert_exporter": "python",
   "pygments_lexer": "ipython3",
   "version": "3.10.8"
  }
 },
 "nbformat": 4,
 "nbformat_minor": 5
}
